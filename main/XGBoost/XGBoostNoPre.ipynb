{
 "cells": [
  {
   "cell_type": "code",
   "execution_count": 1,
   "metadata": {},
   "outputs": [],
   "source": [
    "import pandas as pd\n",
    "from sklearn.model_selection import train_test_split\n",
    "from sklearn.preprocessing import LabelEncoder\n",
    "from sklearn.metrics import classification_report, accuracy_score\n",
    "import numpy as np\n",
    "from xgboost import XGBClassifier\n",
    "from sklearn.metrics import confusion_matrix\n",
    "import matplotlib.pyplot as plt\n",
    "import seaborn as sns"
   ]
  },
  {
   "cell_type": "code",
   "execution_count": 2,
   "metadata": {},
   "outputs": [],
   "source": [
    "# ************************************************** PRE PROCESSING **************************************************\n",
    "\n",
    "# In this section we apply common preprocessing technniques for our Random Fores, XGBoost and GBM\n",
    "# ---------------------------- LOAD DATASET -----------------------------\n",
    "def load_dataset(filename):\n",
    "  return pd.read_csv(filename)\n",
    "\n",
    "# ------------------------ HANDLE MISSING VALUES ------------------------\n",
    "def process_empty_values(data):\n",
    "    for column in data.columns:\n",
    "        if pd.api.types.is_numeric_dtype(data[column]): # Checking if the cols data type is numeric: either integer or float\n",
    "            data[column] = data[column].fillna(data[column].mean()) # Assign 'fillna' operation directly to the DataFrame col\n",
    "        else:  # Assume the col is categorical\n",
    "            # Handle the situation where the mode calc returns an empty series\n",
    "            mode_value = data[column].mode()\n",
    "            if not mode_value.empty:\n",
    "                data[column] = data[column].fillna(mode_value[0])\n",
    "            else:\n",
    "                data[column] = data[column].fillna('Unknown') # If all values are NaN we fill it with a placeholder\n",
    "    return data\n",
    "\n",
    "# --------------------------- LABEL ENCODING ---------------------------\n",
    "# This function assigns unique int to each category, which replaces the original categorical values with numerical values\n",
    "# Important because the model only works with numerical vals\n",
    "# Room for improvement (functions couldve not been hardcoded)\n",
    "def label_encoding(data):\n",
    "    label_encoder = LabelEncoder()\n",
    "    data['merchant'] = label_encoder.fit_transform(data['merchant'])\n",
    "    data['category'] = label_encoder.fit_transform(data['category'])\n",
    "    return data\n",
    "\n",
    "# -------------------------- FEATURE SELECTION --------------------------\n",
    "# This function drops al unnecessary columns\n",
    "# Room for improvement (functions couldve not been hardcoded)\n",
    "def drop_unnecessary_cols(data):\n",
    "  data = data.iloc[:, 1:] \n",
    "  cols_to_drop = ['first', 'last', 'gender', 'street', 'city', 'state', 'zip', 'job', 'dob', 'trans_num', 'unix_time']\n",
    "  data = data.drop(cols_to_drop, axis=1)\n",
    "  return data\n",
    "\n",
    "# ---------------------------- ARE NUMERIC ----------------------------\n",
    "# This function doucle checks that all the vals in out dataset are numeric\n",
    "def identify_non_numeric_columns(data):\n",
    "    non_numeric_cols = data.select_dtypes(exclude=['int', 'float', 'int64', 'float64', 'uint8']).columns # ID non numeric cols by checking theyre corresponding data types\n",
    "    # Print and return the non numeric cols\n",
    "    if len(non_numeric_cols) > 0:\n",
    "        print(\"Non-numeric columns identified:\", non_numeric_cols)\n",
    "    else:\n",
    "        print(\"All columns are numeric.\")\n",
    "    return list(non_numeric_cols)\n",
    "\n",
    "# ------------------ EXPAND trans_date_trans_time FEAT------------------\n",
    "# This function strictly converts the trans_date_trans_time feature\n",
    "# Since trans_date_trans_time is a very complicated feaat (it includes several features)\n",
    "# We decided to split them up to use for feature engineering\n",
    "def expand_datetime_features(data, datetime_col):\n",
    "    # Converting the datetime\n",
    "    data[datetime_col] = pd.to_datetime(data[datetime_col], format=\"%m/%d/%y %H:%M\")\n",
    "    # Extract components from the datetime column\n",
    "    data['Year'] = data[datetime_col].dt.year\n",
    "    data['Month'] = data[datetime_col].dt.month\n",
    "    data['Day'] = data[datetime_col].dt.day\n",
    "    data['Hour'] = data[datetime_col].dt.hour\n",
    "    data['Minute'] = data[datetime_col].dt.minute\n",
    "    data['Second'] = data[datetime_col].dt.second\n",
    "    data['Unix_Timestamp'] = data[datetime_col].astype(int) / 10**9\n",
    "    data.drop(columns=[datetime_col], inplace=True)\n",
    "    return data"
   ]
  },
  {
   "cell_type": "code",
   "execution_count": 3,
   "metadata": {},
   "outputs": [
    {
     "name": "stdout",
     "output_type": "stream",
     "text": [
      "All columns are numeric.\n"
     ]
    }
   ],
   "source": [
    "# ------------------------------ LOAD DATA ------------------------------\n",
    "# The dataset this function is calling only contains 250,000 samples\n",
    "# If you would like to test using the entire dataset containing 1,000,000+ samples, change to fraudTrain.csv\n",
    "train_data = load_dataset('../fraudTrain.csv')\n",
    "\n",
    "# --------------------------- PREPROCESS DATA ---------------------------\n",
    "train_data = process_empty_values(train_data)\n",
    "train_data = label_encoding(train_data)\n",
    "train_data = drop_unnecessary_cols(train_data)\n",
    "train_data = expand_datetime_features(train_data, 'trans_date_trans_time')\n",
    "\n",
    "# # ------------------------- LAST MINUTE CHECKS --------------------------\n",
    "non_numeric_columns = identify_non_numeric_columns(train_data) # Used to double check that all our values are numeric\n",
    "# Dropping last miinute - not as useful- cols \n",
    "columns_to_drop = ['Minute', 'Second']\n",
    "train_data = train_data.drop(columns=columns_to_drop, axis=1)\n",
    "\n",
    "# # ----------------------------- SPLIT DATA ------------------------------\n",
    "# Split data into features and target\n",
    "X = train_data.drop(\"is_fraud\", axis=1)\n",
    "y = train_data[\"is_fraud\"]\n",
    "\n",
    "# Split data into train and test sets\n",
    "X_train, X_test, y_train, y_test = train_test_split(X, y, test_size=0.2, random_state=42)\n"
   ]
  },
  {
   "cell_type": "code",
   "execution_count": 4,
   "metadata": {},
   "outputs": [
    {
     "name": "stdout",
     "output_type": "stream",
     "text": [
      "Model Trained Successfully\n"
     ]
    }
   ],
   "source": [
    "# ----------------------------- TRAIN MODEL -----------------------------\n",
    "xgb_model = XGBClassifier(use_label_encoder=False, eval_metric='logloss')# Creating a Random Forest classifier\n",
    "xgb_model.fit(X_train, y_train) # Training the classifier on the training data\n",
    "y_pred = xgb_model.predict(X_test)# Making predictions on the test data\n",
    "print(\"Model Trained Successfully\")"
   ]
  },
  {
   "cell_type": "code",
   "execution_count": 5,
   "metadata": {},
   "outputs": [
    {
     "name": "stdout",
     "output_type": "stream",
     "text": [
      "---------- Classification Report: ----------\n",
      "Accuracy: 0.998320016799832\n",
      "Classification Report:\n",
      "              precision    recall  f1-score   support\n",
      "\n",
      "           0       1.00      1.00      1.00     99412\n",
      "           1       0.93      0.78      0.85       589\n",
      "\n",
      "    accuracy                           1.00    100001\n",
      "   macro avg       0.96      0.89      0.92    100001\n",
      "weighted avg       1.00      1.00      1.00    100001\n",
      "\n",
      "---------- Confusion Matrix: ----------\n"
     ]
    },
    {
     "data": {
      "image/png": "[encoded data removed]",
      "text/plain": [
       "<Figure size 800x600 with 1 Axes>"
      ]
     },
     "metadata": {},
     "output_type": "display_data"
    }
   ],
   "source": [
    "print(\"---------- Classification Report: ----------\")\n",
    "# Evaluate the performance of the classifier\n",
    "accuracy = accuracy_score(y_test, y_pred)\n",
    "print(\"Accuracy:\", accuracy)\n",
    "\n",
    "# Get a detailed classification report\n",
    "print(\"Classification Report:\")\n",
    "print(classification_report(y_test, y_pred))\n",
    "\n",
    "print(\"---------- Confusion Matrix: ----------\")\n",
    "# Generating the confusion matrix\n",
    "conf_matrix = confusion_matrix(y_test, y_pred)\n",
    "plt.figure(figsize=(8, 6))\n",
    "sns.heatmap(conf_matrix, annot=True, fmt='d', cmap='Blues', cbar=False)\n",
    "plt.xlabel('Predicted Labels')\n",
    "plt.ylabel('True Labels')\n",
    "plt.title('Confusion Matrix')\n",
    "plt.show()\n"
   ]
  }
 ],
 "metadata": {
  "kernelspec": {
   "display_name": "venv",
   "language": "python",
   "name": "python3"
  },
  "language_info": {
   "codemirror_mode": {
    "name": "ipython",
    "version": 3
   },
   "file_extension": ".py",
   "mimetype": "text/x-python",
   "name": "python",
   "nbconvert_exporter": "python",
   "pygments_lexer": "ipython3",
   "version": "3.12.3"
  }
 },
 "nbformat": 4,
 "nbformat_minor": 2
}
