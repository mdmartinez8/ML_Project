{
 "cells": [
  {
   "cell_type": "markdown",
   "metadata": {},
   "source": [
    "This file contains the implementation of our Random Forests model with preprocessing, feature engineering and SMOTE techniques applied"
   ]
  },
  {
   "cell_type": "code",
   "execution_count": 1,
   "metadata": {},
   "outputs": [],
   "source": [
    "import pandas as pd\n",
    "from sklearn.model_selection import train_test_split\n",
    "from sklearn.preprocessing import LabelEncoder\n",
    "from sklearn.ensemble import RandomForestClassifier\n",
    "from sklearn.metrics import classification_report, accuracy_score\n",
    "from sklearn.ensemble import RandomForestClassifier\n",
    "import numpy as np\n",
    "from imblearn.over_sampling import SMOTE\n",
    "from collections import Counter\n",
    "from sklearn.metrics import confusion_matrix, ConfusionMatrixDisplay\n",
    "import matplotlib.pyplot as plt"
   ]
  },
  {
   "cell_type": "code",
   "execution_count": 2,
   "metadata": {},
   "outputs": [],
   "source": [
    "# ************************************************** PRE PROCESSING **************************************************\n",
    "\n",
    "# In this section we apply common preprocessing technniques for our Random Fores, XGBoost and GBM\n",
    "# ---------------------------- LOAD DATASET -----------------------------\n",
    "def load_dataset(filename):\n",
    "  return pd.read_csv(filename)\n",
    "\n",
    "# ------------------------ HANDLE MISSING VALUES ------------------------\n",
    "def process_empty_values(data):\n",
    "    for column in data.columns:\n",
    "        if pd.api.types.is_numeric_dtype(data[column]): # Checking if the cols data type is numeric: either integer or float\n",
    "            data[column] = data[column].fillna(data[column].mean()) # Assign 'fillna' operation directly to the DataFrame col\n",
    "        else:  # Assume the col is categorical\n",
    "            # Handle the situation where the mode calc returns an empty series\n",
    "            mode_value = data[column].mode()\n",
    "            if not mode_value.empty:\n",
    "                data[column] = data[column].fillna(mode_value[0])\n",
    "            else:\n",
    "                data[column] = data[column].fillna('Unknown') # If all values are NaN we fill it with a placeholder\n",
    "    return data\n",
    "\n",
    "# --------------------------- LABEL ENCODING ---------------------------\n",
    "# This function assigns unique int to each category, which replaces the original categorical values with numerical values\n",
    "# Important because the model only works with numerical vals\n",
    "# Room for improvement (functions couldve not been hardcoded)\n",
    "def label_encoding(data):\n",
    "    label_encoder = LabelEncoder()\n",
    "    data['merchant'] = label_encoder.fit_transform(data['merchant'])\n",
    "    data['category'] = label_encoder.fit_transform(data['category'])\n",
    "    return data\n",
    "\n",
    "# -------------------------- FEATURE SELECTION --------------------------\n",
    "# This function drops al unnecessary columns\n",
    "# Room for improvement (functions couldve not been hardcoded)\n",
    "def drop_unnecessary_cols(data):\n",
    "  data = data.iloc[:, 1:] \n",
    "  cols_to_drop = ['first', 'last', 'gender', 'street', 'city', 'state', 'zip', 'job', 'dob', 'trans_num', 'unix_time']\n",
    "  data = data.drop(cols_to_drop, axis=1)\n",
    "  return data\n",
    "\n",
    "# ---------------------------- ARE NUMERIC ----------------------------\n",
    "# This function doucle checks that all the vals in out dataset are numeric\n",
    "def identify_non_numeric_columns(data):\n",
    "    non_numeric_cols = data.select_dtypes(exclude=['int', 'float', 'int64', 'float64', 'uint8']).columns # ID non numeric cols by checking theyre corresponding data types\n",
    "    # Print and return the non numeric cols\n",
    "    if len(non_numeric_cols) > 0:\n",
    "        print(\"Non-numeric columns identified:\", non_numeric_cols)\n",
    "    else:\n",
    "        print(\"All columns are numeric.\")\n",
    "    return list(non_numeric_cols)\n",
    "\n",
    "# ------------------ EXPAND trans_date_trans_time FEAT------------------\n",
    "# This function strictly converts the trans_date_trans_time feature\n",
    "# Since trans_date_trans_time is a very complicated feaat (it includes several features)\n",
    "# We decided to split them up to use for feature engineering\n",
    "def expand_datetime_features(data, datetime_col):\n",
    "    # Converting the datetime\n",
    "    data[datetime_col] = pd.to_datetime(data[datetime_col], format=\"%m/%d/%y %H:%M\")\n",
    "    # Extract components from the datetime column\n",
    "    data['Year'] = data[datetime_col].dt.year\n",
    "    data['Month'] = data[datetime_col].dt.month\n",
    "    data['Day'] = data[datetime_col].dt.day\n",
    "    data['Hour'] = data[datetime_col].dt.hour\n",
    "    data['Minute'] = data[datetime_col].dt.minute\n",
    "    data['Second'] = data[datetime_col].dt.second\n",
    "    data['Unix_Timestamp'] = data[datetime_col].astype(int) / 10**9\n",
    "    data.drop(columns=[datetime_col], inplace=True)\n",
    "    return data"
   ]
  },
  {
   "cell_type": "code",
   "execution_count": 3,
   "metadata": {},
   "outputs": [],
   "source": [
    "# ************************************************ FEATURE ENGINEERING ************************************************\n",
    "# In this section we apply feature engieering by creating new columns that will help detect fraudulent activites\n",
    "\n",
    "# This fucntion takwes in the dataset and the features: 'lat', 'long', 'merch_lat', 'merch_long' in order to\n",
    "# calculate the distance between were the transaction was made and where the customer lives \n",
    "def calc_distance_of_purchase(data, lat1_col, long1_col, lat2_col, long2_col, drop_cols=True):\n",
    "    # Convertind the latitude and longgitude from degrees to radians:\n",
    "    lat1, lon1 = np.radians(data[lat1_col]), np.radians(data[long1_col])\n",
    "    lat2, lon2 = np.radians(data[lat2_col]), np.radians(data[long2_col])\n",
    "    # Applying the Haversine formula:\n",
    "    dlon = lon2 - lon1\n",
    "    dlat = lat2 - lat1\n",
    "    a = np.sin(dlat / 2.0)**2 + np.cos(lat1) * np.cos(lat2) * np.sin(dlon / 2.0)**2\n",
    "    c = 2 * np.arctan2(np.sqrt(a), np.sqrt(1 - a))\n",
    "    R = 6371.0 # Earth radius in kilometers (approx. 6371 km)\n",
    "    data['distance'] = R * c\n",
    "    # Dropping the original latitude and longitude columns since we dont want it messing with our results now that its converted into a desired, nore useful val\n",
    "    if drop_cols:\n",
    "        data.drop(columns=[lat1_col, long1_col, lat2_col, long2_col], inplace=True)\n",
    "    return data\n",
    "\n",
    "# This function is used to calculate the average amount of money spent in transactions for each credit card in the dataset.\n",
    "# Once we have the average, we will use it to compare each transaction amount to the average and can help identify transactions that are too high.\n",
    "def add_average_transaction_per_card_feature(data, card_column, amount_column):\n",
    "    averages = data.groupby(card_column)[amount_column].mean().reset_index(name='avg_amt_per_card')# Calculating the avg transaction amt per card\n",
    "    data = data.merge(averages, on=card_column, how='left') # Merging the avg back into the original dataframe\n",
    "    data['amt_vs_avg'] = data[amount_column] / data['avg_amt_per_card'] # Creating the new feature by comparing each transaction amt to the avg\n",
    "    return data\n",
    "\n",
    "# This function is used to count how many transactions are made each day per credit card, which \n",
    "# helps detect unusual activity if there are more transactions per day than the usual pattern.\n",
    "def add_transaction_frequency_per_card(data, card_col, year_col, month_col, day_col):\n",
    "    if 'date' not in data.columns:\n",
    "        data['date'] = pd.to_datetime(data[[year_col, month_col, day_col]])\n",
    "    transaction_counts = data.groupby([card_col, 'date']).size().reset_index(name='daily_transactions')\n",
    "    data = data.merge(transaction_counts, on=[card_col, 'date'], how='left')\n",
    "    return data\n",
    "\n",
    "# This function is used to calculate the number of days between each transaction for the same credit card. Helps detect a pattern of how frequently the card is being used; \n",
    "# for example, if the card is used 2-3 times a day and all of a sudden, the card is being used 10 times a day for 2 days straight, it could be fraud.\n",
    "def add_days_since_last_purchase(data, card_col, date_col):\n",
    "    data[date_col] = pd.to_datetime(data[date_col])\n",
    "    data = data.sort_values(by=[card_col, date_col])\n",
    "    data['days_since_last_purchase'] = data.groupby(card_col)[date_col].diff().dt.days\n",
    "    data['days_since_last_purchase'] = data['days_since_last_purchase'].fillna(-1).astype(int)\n",
    "    data.drop(date_col, axis=1, inplace=True)\n",
    "    return data\n",
    "\n",
    "# This function is used to compare the current transaction amount to the average amount spent for a similar category. \n",
    "# By detecting significant deviations in spending patterns per category we can detect fraud. (after encoding the category val)\n",
    "def add_spending_pattern_change(data, card_col, category_col, amount_col):\n",
    "    avg_spending = data.groupby([card_col, category_col])[amount_col].mean().reset_index() # Calc the avg amt spent per card & category\n",
    "    avg_spending.columns = [card_col, category_col, 'avg_amt_per_card_and_category']\n",
    "    data = pd.merge(data, avg_spending, how='left', on=[card_col, category_col])  # Merging it back to the original dataset to associate the avg with ea transaction\n",
    "    data['spending_pattern_change'] = data[amount_col] - data['avg_amt_per_card_and_category'] # Calc the diff between the transaction amt and the avg amt\n",
    "    return data\n",
    "\n",
    "# This function takes in the card number and the merchant feat (after encoding) to calculate if this is the first time a person\n",
    "# has visited the merchant and the total num of unique merchats the person has used the card in\n",
    "# Returns 2 cols: first_time_merchant and unique_merchants\n",
    "def add_merchant_visit_features(data, card_col, merchant_col):\n",
    "    # Track the first occurrence of a merchant for each card\n",
    "    # Convert boolean to integer explicitly to ensure correct data type.\n",
    "    data['first_time_merchant'] = data.duplicated(subset=[card_col, merchant_col], keep='first').astype(int)\n",
    "    # Count of unique merchants visited by each card\n",
    "    # Already numerical since it's a count, but we ensure it's recognized as an integer.\n",
    "    unique_merchants = data.groupby(card_col)[merchant_col].transform('nunique').astype(int)\n",
    "    data['unique_merchants'] = unique_merchants    \n",
    "    return data\n",
    "\n",
    "# This function is used to categorize the hout of the day (using the 'Hour' feat) into 'Night', 'Morning', 'Afternoon', 'Evening'\n",
    "def categorize_time_of_day(data):\n",
    "    bins = [0, 6, 12, 18, 24]  # Defining the time ranges \n",
    "    labels = ['Night', 'Morning', 'Afternoon', 'Evening']\n",
    "    data['time_of_day'] = pd.cut(data['Hour'], bins=bins, labels=labels, right=False)\n",
    "    data['time_of_day'] = LabelEncoder().fit_transform(data['time_of_day']) # After conversion it encodes those variables\n",
    "    return data"
   ]
  },
  {
   "cell_type": "code",
   "execution_count": 4,
   "metadata": {},
   "outputs": [
    {
     "name": "stdout",
     "output_type": "stream",
     "text": [
      "All columns are numeric.\n"
     ]
    }
   ],
   "source": [
    "# ------------------------------ LOAD DATA ------------------------------\n",
    "# The dataset this function is calling only contains 250,000 samples\n",
    "# If you would like to test using the entire dataset containing 1,000,000+ samples, change to fraudTrain.csv\n",
    "train_data = load_dataset('../fraudTrain.csv')\n",
    "\n",
    "# --------------------------- PREPROCESS DATA ---------------------------\n",
    "train_data = process_empty_values(train_data)\n",
    "train_data = label_encoding(train_data)\n",
    "train_data = drop_unnecessary_cols(train_data)\n",
    "train_data = expand_datetime_features(train_data, 'trans_date_trans_time')\n",
    "\n",
    "# ------------------------- FEATURE ENGINEERING --------------------------\n",
    "train_data = calc_distance_of_purchase(train_data, 'lat', 'long', 'merch_lat', 'merch_long')\n",
    "train_data = add_average_transaction_per_card_feature(train_data, 'cc_num', 'amt')\n",
    "train_data = add_transaction_frequency_per_card(train_data, card_col='cc_num', year_col='Year', month_col='Month', day_col='Day')\n",
    "train_data = add_days_since_last_purchase(train_data, card_col='cc_num', date_col='date')\n",
    "train_data = add_spending_pattern_change(train_data, card_col='cc_num', category_col='category', amount_col='amt')\n",
    "train_data = add_merchant_visit_features(train_data, card_col='cc_num', merchant_col='merchant')\n",
    "train_data = categorize_time_of_day(train_data)\n",
    "\n",
    "# # ------------------------- LAST MINUTE CHECKS --------------------------\n",
    "non_numeric_columns = identify_non_numeric_columns(train_data) # Used to double check that all our values are numeric\n",
    "# Dropping last miinute - not as useful- cols \n",
    "columns_to_drop = ['Minute', 'Second']\n",
    "train_data = train_data.drop(columns=columns_to_drop, axis=1)\n",
    "\n",
    "# # ----------------------------- SPLIT DATA ------------------------------\n",
    "# Split data into features and target\n",
    "X = train_data.drop(\"is_fraud\", axis=1)\n",
    "y = train_data[\"is_fraud\"]\n",
    "\n",
    "# Split data into train and test sets\n",
    "X_train, X_test, y_train, y_test = train_test_split(X, y, test_size=0.2, random_state=42)"
   ]
  },
  {
   "cell_type": "code",
   "execution_count": 5,
   "metadata": {},
   "outputs": [
    {
     "name": "stdout",
     "output_type": "stream",
     "text": [
      "Class distribution after SMOTE: Counter({0: 198440, 1: 198440})\n"
     ]
    }
   ],
   "source": [
    "# # ----------------------------- APPLY SMOTE -----------------------------\n",
    "# Apply SMOTE to balance the training data\n",
    "smote = SMOTE(random_state=42)\n",
    "X_train_smote, y_train_smote = smote.fit_resample(X_train, y_train)\n",
    "print(\"Class distribution after SMOTE:\", Counter(y_train_smote))"
   ]
  },
  {
   "cell_type": "code",
   "execution_count": 6,
   "metadata": {},
   "outputs": [
    {
     "name": "stdout",
     "output_type": "stream",
     "text": [
      "Model Trained Successfully\n"
     ]
    }
   ],
   "source": [
    "# ----------------------------- TRAIN MODEL -----------------------------\n",
    "rf_classifier = RandomForestClassifier(n_estimators=200, random_state=42) # Creating a Random Forest classifier\n",
    "rf_classifier.fit(X_train_smote, y_train_smote) # Training the classifier on the training data\n",
    "y_pred = rf_classifier.predict(X_test) # Making predictions on the test data\n",
    "print(\"Model Trained Successfully\")"
   ]
  },
  {
   "cell_type": "code",
   "execution_count": 7,
   "metadata": {},
   "outputs": [
    {
     "name": "stdout",
     "output_type": "stream",
     "text": [
      "---------- Classification Report: ----------\n",
      "Accuracy: 0.996340073198536\n",
      "Classification Report:\n",
      "              precision    recall  f1-score   support\n",
      "\n",
      "           0       1.00      1.00      1.00     49608\n",
      "           1       0.74      0.82      0.78       393\n",
      "\n",
      "    accuracy                           1.00     50001\n",
      "   macro avg       0.87      0.91      0.89     50001\n",
      "weighted avg       1.00      1.00      1.00     50001\n",
      "\n"
     ]
    }
   ],
   "source": [
    "print(\"---------- Classification Report: ----------\")\n",
    "accuracy = accuracy_score(y_test, y_pred) # Evaluating the performance of the classifier\n",
    "print(\"Accuracy:\", accuracy)\n",
    "\n",
    "# Geting a classification report\n",
    "print(\"Classification Report:\")\n",
    "print(classification_report(y_test, y_pred))"
   ]
  }
 ],
 "metadata": {
  "kernelspec": {
   "display_name": "venv",
   "language": "python",
   "name": "python3"
  },
  "language_info": {
   "codemirror_mode": {
    "name": "ipython",
    "version": 3
   },
   "file_extension": ".py",
   "mimetype": "text/x-python",
   "name": "python",
   "nbconvert_exporter": "python",
   "pygments_lexer": "ipython3",
   "version": "3.12.3"
  }
 },
 "nbformat": 4,
 "nbformat_minor": 2
}
