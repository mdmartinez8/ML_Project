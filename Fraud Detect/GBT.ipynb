{
 "cells": [
  {
   "cell_type": "code",
   "execution_count": null,
   "id": "b165588f",
   "metadata": {},
   "outputs": [],
   "source": [
    "import sys\n",
    "import os\n",
    "import numpy\n",
    "import pandas as pd\n",
    "from sklearn.model_selection import train_test_split\n",
    "from sklearn.metrics import accuracy_score, mean_squared_error\n",
    "from sklearn.ensemble import GradientBoostingClassifier, GradientBoostingRegressor"
   ]
  },
  {
   "cell_type": "markdown",
   "id": "154d6bfe",
   "metadata": {},
   "source": [
    "X = pd.read_csv('./Fraud Detect/fraudTrain.csv')\n",
    "Y = pd.read_csv('./Fraud Detect/fraudTest.csv')\n",
    "# Prep the data\n",
    "X_train, X_test, Y_train, Y_test = train_test_split(X, Y, test_size=0.2, random_state=42)"
   ]
  },
  {
   "cell_type": "code",
   "execution_count": null,
   "id": "048761b1",
   "metadata": {},
   "outputs": [],
   "source": [
    "# Load the complete dataset\n",
    "data = pd.read_csv('./Fraud Detect/fraudTrain.csv')"
   ]
  },
  {
   "cell_type": "code",
   "execution_count": null,
   "id": "9ceadec1",
   "metadata": {},
   "outputs": [],
   "source": [
    "# Separate features and target\n",
    "Y = data['is_fraud']  # assuming 'is_fraud' is the target column\n",
    "X = data.drop(columns=['is_fraud'])"
   ]
  },
  {
   "cell_type": "code",
   "execution_count": null,
   "id": "c69fd43c",
   "metadata": {},
   "outputs": [],
   "source": [
    "# Split the data into training and test sets\n",
    "X_train, X_test, Y_train, Y_test = train_test_split(X, Y, test_size=0.2, random_state=42)"
   ]
  },
  {
   "cell_type": "code",
   "execution_count": null,
   "id": "7bd9c49c",
   "metadata": {},
   "outputs": [],
   "source": [
    "# Performs One-Hot-Encoding on string data\n",
    "X_train = pd.get_dummies(X_train)\n",
    "X_test = pd.get_dummies(X_test)"
   ]
  },
  {
   "cell_type": "code",
   "execution_count": null,
   "id": "260e8c73",
   "metadata": {},
   "outputs": [],
   "source": [
    "# Initialize Models\n",
    "# For classification\n",
    "modelC = GradientBoostingClassifier(n_estimators=100, learning_rate=0.1, max_depth=3, random_state=42)"
   ]
  },
  {
   "cell_type": "code",
   "execution_count": null,
   "id": "1c3be640",
   "metadata": {},
   "outputs": [],
   "source": [
    "# For regression\n",
    "modelR = GradientBoostingRegressor(n_estimators=100, learning_rate=0.1, max_depth=3, random_state=42)"
   ]
  },
  {
   "cell_type": "code",
   "execution_count": null,
   "id": "1d891f9c",
   "metadata": {},
   "outputs": [],
   "source": [
    "print(X_test)"
   ]
  },
  {
   "cell_type": "code",
   "execution_count": null,
   "id": "3b717aec",
   "metadata": {},
   "outputs": [],
   "source": [
    "# Train models\n",
    "modelC.fit(X_train, Y_train)\n",
    "modelR.fit(X_train, Y_train)"
   ]
  },
  {
   "cell_type": "code",
   "execution_count": null,
   "id": "b7bbb753",
   "metadata": {},
   "outputs": [],
   "source": [
    "# Make predictions\n",
    "predictions_R = modelR.predict(X_test)\n",
    "predictions_C = modelC.predict(X_test)"
   ]
  },
  {
   "cell_type": "code",
   "execution_count": null,
   "id": "4ca05e9c",
   "metadata": {},
   "outputs": [],
   "source": [
    "# For classification\n",
    "accuracy = accuracy_score(Y_test, predictions_C)\n",
    "print(f\"Classification Accuracy: {accuracy}\")\n",
    "mse = mean_squared_error(Y_test, predictions_R)\n",
    "print(f\" Classification Mean Squared Error: {mse}\")"
   ]
  },
  {
   "cell_type": "code",
   "execution_count": null,
   "id": "32f8b814",
   "metadata": {
    "lines_to_next_cell": 2
   },
   "outputs": [],
   "source": [
    "# For regression\n",
    "accuracy = accuracy_score(Y_test, predictions_R)\n",
    "print(f\"Regression Accuracy: {accuracy}\")\n",
    "mse = mean_squared_error(Y_test, predictions_R)\n",
    "print(f\"Regression Mean Squared Error: {mse}\")"
   ]
  },
  {
   "cell_type": "markdown",
   "id": "b036f9b2",
   "metadata": {
    "lines_to_next_cell": 2
   },
   "source": [
    "Make predictions on new data\n",
    "new_predictions = model.predict(new_data)"
   ]
  },
  {
   "cell_type": "code",
   "execution_count": null,
   "id": "df9255d3",
   "metadata": {},
   "outputs": [],
   "source": [
    "print(\"Yoooo\")"
   ]
  }
 ],
 "metadata": {
  "jupytext": {
   "cell_metadata_filter": "-all",
   "main_language": "python",
   "notebook_metadata_filter": "-all"
  }
 },
 "nbformat": 4,
 "nbformat_minor": 5
}
